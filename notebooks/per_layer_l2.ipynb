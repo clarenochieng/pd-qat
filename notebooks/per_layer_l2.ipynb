{
 "cells": [
  {
   "cell_type": "code",
   "execution_count": 43,
   "metadata": {},
   "outputs": [],
   "source": [
    "import wandb\n",
    "from math import isnan \n",
    "import seaborn as sns\n",
    "import matplotlib.pyplot as plt\n",
    "import pandas as pd\n",
    "import numpy as np\n",
    "import wandb\n",
    "layer_names = []\n",
    "block_l_names = [\"conv0\", \"conv1\", \"shortcut\"]\n",
    "num_layers=27\n",
    "for l in range(num_layers):\n",
    "    if l%3 ==2:\n",
    "        if l//3 == 3 or l//3==6:\n",
    "            layer_names.append(f\"Block_{l//3}_{block_l_names[l%3]}\")\n",
    "    else:\n",
    "        layer_names.append(f\"Block_{l//3}_{block_l_names[l%3]}\")\n",
    "api = wandb.Api()\n",
    "project= \"QSL2Abl\"\n",
    "# Project is specified by <entity/project-name>\n",
    "result_list = []\n",
    "config_list = []\n",
    "runs = api.runs(f\"alelab/{project}\")\n",
    "for run in runs:\n",
    "    if run.state==\"finished\" and \"old\" not in run.tags: \n",
    "        config = {}\n",
    "        config[\"bit_width_list\"] = list(map(int, run.config[\"bit_width_list\"].split(',')))\n",
    "        config[\"bit_width\"] = config[\"bit_width_list\"][0]\n",
    "        config[\"seed\"] = run.config[\"seed\"]\n",
    "        config[\"epsilonlw\"] = run.config[\"epsilonlw\"]\n",
    "        for l in layer_names:\n",
    "            for split in [\"train\", \"val\"]:\n",
    "                slack_key = f'slack_{l}_bw_{config[\"bit_width\"]}_{split}'\n",
    "                dual_key = f'dual_{l}_bw_{config[\"bit_width\"]}'\n",
    "                short_name = \"\".join(l.split(\"_\")[1:])\n",
    "                result_dict = {\"slack\": run.summary[slack_key]+config[\"epsilonlw\"] , \"layer\": short_name, \"split\":split, \"dual\": run.summary[dual_key]}\n",
    "                result_list.append(result_dict)\n",
    "                config_list.append(config)\n",
    "config_df = pd.DataFrame.from_records(config_list) \n",
    "result_df = pd.DataFrame.from_records(result_list) \n",
    "all_df = pd.concat([config_df,result_df], axis=1)"
   ]
  },
  {
   "cell_type": "code",
   "execution_count": 3,
   "metadata": {},
   "outputs": [
    {
     "data": {
      "text/html": [
       "<div>\n",
       "<style scoped>\n",
       "    .dataframe tbody tr th:only-of-type {\n",
       "        vertical-align: middle;\n",
       "    }\n",
       "\n",
       "    .dataframe tbody tr th {\n",
       "        vertical-align: top;\n",
       "    }\n",
       "\n",
       "    .dataframe thead th {\n",
       "        text-align: right;\n",
       "    }\n",
       "</style>\n",
       "<table border=\"1\" class=\"dataframe\">\n",
       "  <thead>\n",
       "    <tr style=\"text-align: right;\">\n",
       "      <th></th>\n",
       "      <th>bit_width_list</th>\n",
       "      <th>bit_width</th>\n",
       "      <th>seed</th>\n",
       "      <th>epsilonlw</th>\n",
       "      <th>slack</th>\n",
       "      <th>layer</th>\n",
       "      <th>split</th>\n",
       "      <th>dual</th>\n",
       "    </tr>\n",
       "  </thead>\n",
       "  <tbody>\n",
       "    <tr>\n",
       "      <th>0</th>\n",
       "      <td>[2, 32]</td>\n",
       "      <td>2</td>\n",
       "      <td>2</td>\n",
       "      <td>0.666667</td>\n",
       "      <td>-0.585915</td>\n",
       "      <td>0conv0</td>\n",
       "      <td>train</td>\n",
       "      <td>0.0</td>\n",
       "    </tr>\n",
       "    <tr>\n",
       "      <th>1</th>\n",
       "      <td>[2, 32]</td>\n",
       "      <td>2</td>\n",
       "      <td>2</td>\n",
       "      <td>0.666667</td>\n",
       "      <td>-0.585811</td>\n",
       "      <td>0conv0</td>\n",
       "      <td>val</td>\n",
       "      <td>0.0</td>\n",
       "    </tr>\n",
       "    <tr>\n",
       "      <th>2</th>\n",
       "      <td>[2, 32]</td>\n",
       "      <td>2</td>\n",
       "      <td>2</td>\n",
       "      <td>0.666667</td>\n",
       "      <td>-0.645754</td>\n",
       "      <td>0conv1</td>\n",
       "      <td>train</td>\n",
       "      <td>0.0</td>\n",
       "    </tr>\n",
       "    <tr>\n",
       "      <th>3</th>\n",
       "      <td>[2, 32]</td>\n",
       "      <td>2</td>\n",
       "      <td>2</td>\n",
       "      <td>0.666667</td>\n",
       "      <td>-0.645769</td>\n",
       "      <td>0conv1</td>\n",
       "      <td>val</td>\n",
       "      <td>0.0</td>\n",
       "    </tr>\n",
       "    <tr>\n",
       "      <th>4</th>\n",
       "      <td>[2, 32]</td>\n",
       "      <td>2</td>\n",
       "      <td>2</td>\n",
       "      <td>0.666667</td>\n",
       "      <td>-0.597850</td>\n",
       "      <td>1conv0</td>\n",
       "      <td>train</td>\n",
       "      <td>0.0</td>\n",
       "    </tr>\n",
       "    <tr>\n",
       "      <th>...</th>\n",
       "      <td>...</td>\n",
       "      <td>...</td>\n",
       "      <td>...</td>\n",
       "      <td>...</td>\n",
       "      <td>...</td>\n",
       "      <td>...</td>\n",
       "      <td>...</td>\n",
       "      <td>...</td>\n",
       "    </tr>\n",
       "    <tr>\n",
       "      <th>2155</th>\n",
       "      <td>[1, 32]</td>\n",
       "      <td>1</td>\n",
       "      <td>0</td>\n",
       "      <td>0.250000</td>\n",
       "      <td>-0.147261</td>\n",
       "      <td>7conv1</td>\n",
       "      <td>val</td>\n",
       "      <td>0.0</td>\n",
       "    </tr>\n",
       "    <tr>\n",
       "      <th>2156</th>\n",
       "      <td>[1, 32]</td>\n",
       "      <td>1</td>\n",
       "      <td>0</td>\n",
       "      <td>0.250000</td>\n",
       "      <td>-0.103646</td>\n",
       "      <td>8conv0</td>\n",
       "      <td>train</td>\n",
       "      <td>0.0</td>\n",
       "    </tr>\n",
       "    <tr>\n",
       "      <th>2157</th>\n",
       "      <td>[1, 32]</td>\n",
       "      <td>1</td>\n",
       "      <td>0</td>\n",
       "      <td>0.250000</td>\n",
       "      <td>-0.104081</td>\n",
       "      <td>8conv0</td>\n",
       "      <td>val</td>\n",
       "      <td>0.0</td>\n",
       "    </tr>\n",
       "    <tr>\n",
       "      <th>2158</th>\n",
       "      <td>[1, 32]</td>\n",
       "      <td>1</td>\n",
       "      <td>0</td>\n",
       "      <td>0.250000</td>\n",
       "      <td>-0.166564</td>\n",
       "      <td>8conv1</td>\n",
       "      <td>train</td>\n",
       "      <td>0.0</td>\n",
       "    </tr>\n",
       "    <tr>\n",
       "      <th>2159</th>\n",
       "      <td>[1, 32]</td>\n",
       "      <td>1</td>\n",
       "      <td>0</td>\n",
       "      <td>0.250000</td>\n",
       "      <td>-0.166425</td>\n",
       "      <td>8conv1</td>\n",
       "      <td>val</td>\n",
       "      <td>0.0</td>\n",
       "    </tr>\n",
       "  </tbody>\n",
       "</table>\n",
       "<p>2160 rows × 8 columns</p>\n",
       "</div>"
      ],
      "text/plain": [
       "     bit_width_list  bit_width  seed  epsilonlw     slack   layer  split  dual\n",
       "0           [2, 32]          2     2   0.666667 -0.585915  0conv0  train   0.0\n",
       "1           [2, 32]          2     2   0.666667 -0.585811  0conv0    val   0.0\n",
       "2           [2, 32]          2     2   0.666667 -0.645754  0conv1  train   0.0\n",
       "3           [2, 32]          2     2   0.666667 -0.645769  0conv1    val   0.0\n",
       "4           [2, 32]          2     2   0.666667 -0.597850  1conv0  train   0.0\n",
       "...             ...        ...   ...        ...       ...     ...    ...   ...\n",
       "2155        [1, 32]          1     0   0.250000 -0.147261  7conv1    val   0.0\n",
       "2156        [1, 32]          1     0   0.250000 -0.103646  8conv0  train   0.0\n",
       "2157        [1, 32]          1     0   0.250000 -0.104081  8conv0    val   0.0\n",
       "2158        [1, 32]          1     0   0.250000 -0.166564  8conv1  train   0.0\n",
       "2159        [1, 32]          1     0   0.250000 -0.166425  8conv1    val   0.0\n",
       "\n",
       "[2160 rows x 8 columns]"
      ]
     },
     "execution_count": 3,
     "metadata": {},
     "output_type": "execute_result"
    }
   ],
   "source": [
    "all_df"
   ]
  },
  {
   "cell_type": "code",
   "execution_count": 4,
   "metadata": {},
   "outputs": [],
   "source": [
    "short_to_long_name = {\"\".join(l.split(\"_\")[1:]):l for l in layer_names}"
   ]
  },
  {
   "cell_type": "code",
   "execution_count": 69,
   "metadata": {},
   "outputs": [
    {
     "data": {
      "text/plain": [
       "{'0conv0': 'Block 0\\n Conv0',\n",
       " '0conv1': 'Block 0\\n Conv1',\n",
       " '1conv0': 'Block 1\\n Conv0',\n",
       " '1conv1': 'Block 1\\n Conv1',\n",
       " '2conv0': 'Block 2\\n Conv0',\n",
       " '2conv1': 'Block 2\\n Conv1',\n",
       " '3conv0': 'Block 3\\n Conv0',\n",
       " '3conv1': 'Block 3\\n Conv1',\n",
       " '3shortcut': 'Block 3\\n Shortcut',\n",
       " '4conv0': 'Block 4\\n Conv0',\n",
       " '4conv1': 'Block 4\\n Conv1',\n",
       " '5conv0': 'Block 5\\n Conv0',\n",
       " '5conv1': 'Block 5\\n Conv1',\n",
       " '6conv0': 'Block 6\\n Conv0',\n",
       " '6conv1': 'Block 6\\n Conv1',\n",
       " '6shortcut': 'Block 6\\n Shortcut',\n",
       " '7conv0': 'Block 7\\n Conv0',\n",
       " '7conv1': 'Block 7\\n Conv1',\n",
       " '8conv0': 'Block 8\\n Conv0',\n",
       " '8conv1': 'Block 8\\n Conv1'}"
      ]
     },
     "execution_count": 69,
     "metadata": {},
     "output_type": "execute_result"
    }
   ],
   "source": [
    "short_to_plot_name = { l:f\"Block {l[0]}\\n {l[1:].capitalize()}\" for l in short_to_long_name.keys()}\n",
    "short_to_plot_name"
   ]
  },
  {
   "cell_type": "code",
   "execution_count": 75,
   "metadata": {},
   "outputs": [
    {
     "name": "stdout",
     "output_type": "stream",
     "text": [
      "bitwidth 1\n"
     ]
    },
    {
     "data": {
      "image/png": "[encoded data removed]",
      "text/plain": [
       "<Figure size 432x288 with 1 Axes>"
      ]
     },
     "metadata": {
      "needs_background": "light"
     },
     "output_type": "display_data"
    }
   ],
   "source": [
    "import os\n",
    "from pathlib import Path\n",
    "bash_folder = \"../scripts/layer_selection/\" \n",
    "Path(bash_folder).mkdir(exist_ok=True, parents=True)\n",
    "epsilon = {1: 0.7, 1:0.9}\n",
    "for split in [\"train\"]:\n",
    "    for bw in [1]:\n",
    "        print(\"bitwidth\", bw)\n",
    "        query_df = all_df.query(f'bit_width=={bw} and split==\"{split}\" and epsilonlw!=0.5 and epsilonlw!=0.25')\n",
    "        query_df = query_df[[\"layer\", \"slack\", \"epsilonlw\"]].groupby(['layer', \"epsilonlw\"], as_index=False).mean()\n",
    "        query_df[\"diff\"] = query_df[query_df[\"epsilonlw\"]==1][\"slack\"].values-query_df[query_df[\"epsilonlw\"]==0.0125][\"slack\"]\n",
    "        layers = query_df.sort_values(\"diff\")[-4:][\"layer\"]\n",
    "        query_df = all_df.query(f'bit_width=={bw} and split==\"{split}\" and epsilonlw!=0.5 and epsilonlw!=0.25')\n",
    "        query_df = query_df[query_df[\"layer\"].isin(layers)]\n",
    "        #print(query_df)\n",
    "        query_df = query_df.replace({1.0: \"Output\", 0.0125: \"Layerwise\"})\n",
    "        query_df = query_df.replace(short_to_plot_name)\n",
    "        ax = sns.barplot(x =\"layer\", y=\"slack\", hue=\"epsilonlw\", data=query_df, palette=sns.color_palette(\"Paired\"))\n",
    "        legend = ax.legend( title=\"Constraint\")\n",
    "        plt.xlabel(\"Layer\")\n",
    "        plt.ylabel(\"Layerwise MSE\")\n",
    "        #plt.xticks(rotation=90)\n",
    "        plt.show()"
   ]
  },
  {
   "cell_type": "code",
   "execution_count": 29,
   "metadata": {},
   "outputs": [],
   "source": [
    "import wandb\n",
    "from math import isnan \n",
    "import seaborn as sns\n",
    "import matplotlib.pyplot as plt\n",
    "import pandas as pd\n",
    "import numpy as np\n",
    "import wandb\n",
    "layer_names = []\n",
    "block_l_names = [\"conv0\", \"conv1\", \"shortcut\"]\n",
    "num_layers=27\n",
    "for l in range(num_layers):\n",
    "    if l%3 ==2:\n",
    "        if l//3 == 3 or l//3==6:\n",
    "            layer_names.append(f\"Block_{l//3}_{block_l_names[l%3]}\")\n",
    "    else:\n",
    "        layer_names.append(f\"Block_{l//3}_{block_l_names[l%3]}\")\n",
    "api = wandb.Api()\n",
    "project= \"QS_Ours_OnlyCE\"\n",
    "# Project is specified by <entity/project-name>\n",
    "result_list = []\n",
    "config_list = []\n",
    "runs = api.runs(f\"alelab/{project}\")\n",
    "for run in runs:\n",
    "    if run.state==\"finished\": \n",
    "        config = {}\n",
    "        config[\"bit_width_list\"] = list(map(int, run.config[\"bit_width_list\"].split(',')))\n",
    "        config[\"bit_width\"] = config[\"bit_width_list\"][0]\n",
    "        config[\"seed\"] = run.config[\"seed\"]\n",
    "        config[\"epsilonlw\"] = run.config[\"epsilonlw\"]\n",
    "        for l in layer_names:\n",
    "            for split in [\"train\", \"val\"]:\n",
    "                slack_key = f'slack_{l}_bw_{config[\"bit_width\"]}_{split}'\n",
    "                short_name = \"\".join(l.split(\"_\")[1:])\n",
    "                result_dict = {\"slack\": run.summary[slack_key]+config[\"epsilonlw\"] , \"layer\": short_name, \"split\":split}\n",
    "                result_list.append(result_dict)\n",
    "                config_list.append(config)\n",
    "config_df = pd.DataFrame.from_records(config_list) \n",
    "result_df = pd.DataFrame.from_records(result_list) \n",
    "all_df = pd.concat([config_df,result_df], axis=1)"
   ]
  },
  {
   "cell_type": "markdown",
   "metadata": {},
   "source": []
  },
  {
   "cell_type": "code",
   "execution_count": 30,
   "metadata": {},
   "outputs": [
    {
     "name": "stdout",
     "output_type": "stream",
     "text": [
      "bitwidth 1\n"
     ]
    },
    {
     "data": {
      "image/png": "[encoded data removed]",
      "text/plain": [
       "<Figure size 432x288 with 1 Axes>"
      ]
     },
     "metadata": {
      "needs_background": "light"
     },
     "output_type": "display_data"
    }
   ],
   "source": [
    "import os\n",
    "from pathlib import Path\n",
    "bash_folder = \"../scripts/layer_selection/\" \n",
    "Path(bash_folder).mkdir(exist_ok=True, parents=True)\n",
    "epsilon = {1: 0.7, 1:0.9}\n",
    "for split in [\"train\"]:\n",
    "    for bw in [1]:\n",
    "        print(\"bitwidth\", bw)\n",
    "        query_df = all_df.query(f'bit_width=={bw} and split==\"{split}\" and epsilonlw<1')\n",
    "        query_df = query_df[[\"layer\", \"slack\", \"epsilonlw\"]].groupby(['layer', \"epsilonlw\"], as_index=False).mean()\n",
    "        query_df = query_df.sort_values(\"layer\")\n",
    "        sns.scatterplot(x =\"layer\", y=\"slack\", hue=\"epsilonlw\", data=query_df)\n",
    "        plt.xticks(rotation=90)\n",
    "        plt.show()"
   ]
  },
  {
   "cell_type": "code",
   "execution_count": 151,
   "metadata": {},
   "outputs": [
    {
     "name": "stdout",
     "output_type": "stream",
     "text": [
      "bitwidth 1\n"
     ]
    },
    {
     "data": {
      "image/png": "[encoded data removed]",
      "text/plain": [
       "<Figure size 432x288 with 1 Axes>"
      ]
     },
     "metadata": {
      "needs_background": "light"
     },
     "output_type": "display_data"
    }
   ],
   "source": [
    "for split in [\"train\"]:\n",
    "    for bw in [1]:\n",
    "        print(\"bitwidth\", bw)\n",
    "        query_df = all_df.query(f'bit_width=={bw} and split==\"{split}\" and epsilonlw<0.03')\n",
    "        query_df = query_df[[\"layer\", \"dual\", \"slack\", \"seed\"]].groupby(['layer'], as_index=False).mean()\n",
    "        query_df = query_df.sort_values(\"dual\")\n",
    "        sns.scatterplot(x =\"layer\", y=\"dual\", data=query_df)\n",
    "        plt.xticks(rotation=90)\n",
    "        plt.show()\n",
    "        duals = {}\n",
    "        slacks = {}\n",
    "        for num_l in [1, 2, 4, 8]:\n",
    "            dual_sum = {\"best\":{}, \"worst\":{}}\n",
    "            slack_sum = {\"best\":{}, \"worst\":{}}\n",
    "            for seed in 0, 1, 2:\n",
    "                seed_df = query_df[query_df[\"seed\"]]\n",
    "\n",
    "            dual_sum[\"worst\"] = query_df['dual'][:num_l].sum()\n",
    "            dual_sum[\"best\"] = query_df['dual'][-num_l:].sum()\n",
    "            duals[num_l] = dual_sum\n",
    "            slack_sum[\"worst\"] = query_df['slack'][:num_l].sum()\n",
    "            slack_sum[\"best\"] = query_df['slack'][-num_l:].sum()\n",
    "            slacks[num_l] = slack_sum"
   ]
  },
  {
   "cell_type": "code",
   "execution_count": 152,
   "metadata": {},
   "outputs": [
    {
     "name": "stdout",
     "output_type": "stream",
     "text": [
      "{1: {'worst': 0.006625153265279476, 'best': 0.06610378920954686}, 2: {'worst': 0.00863039473037546, 'best': 0.10022505090755444}, 4: {'worst': 0.013686025366644134, 'best': 0.1756794861789103}, 8: {'worst': 0.03461469201980831, 'best': 0.310676863863402}}\n"
     ]
    }
   ],
   "source": [
    "print(slacks)"
   ]
  },
  {
   "cell_type": "code",
   "execution_count": 147,
   "metadata": {},
   "outputs": [
    {
     "data": {
      "text/plain": [
       "'7conv1'"
      ]
     },
     "execution_count": 147,
     "metadata": {},
     "output_type": "execute_result"
    }
   ],
   "source": [
    "query_df.loc[1+2*num_l, 'layer']"
   ]
  },
  {
   "cell_type": "code",
   "execution_count": 130,
   "metadata": {},
   "outputs": [
    {
     "name": "stdout",
     "output_type": "stream",
     "text": [
      "bitwidth 1\n",
      "        layer      dual\n",
      "19     8conv1  0.019862\n",
      "17     7conv1  0.022729\n",
      "12     5conv1  0.025537\n",
      "7      3conv1  0.027671\n",
      "5      2conv1  0.028245\n",
      "10     4conv1  0.029906\n",
      "3      1conv1  0.030121\n",
      "18     8conv0  0.032688\n",
      "14     6conv1  0.033344\n",
      "1      0conv1  0.034929\n",
      "11     5conv0  0.042234\n",
      "16     7conv0  0.044023\n",
      "4      2conv0  0.045042\n",
      "13     6conv0  0.045812\n",
      "9      4conv0  0.046725\n",
      "6      3conv0  0.050473\n",
      "2      1conv0  0.051026\n",
      "0      0conv0  0.059667\n",
      "15  6shortcut  0.060420\n",
      "8   3shortcut  0.069318\n"
     ]
    },
    {
     "data": {
      "image/png": "[encoded data removed]",
      "text/plain": [
       "<Figure size 432x288 with 1 Axes>"
      ]
     },
     "metadata": {
      "needs_background": "light"
     },
     "output_type": "display_data"
    },
    {
     "name": "stdout",
     "output_type": "stream",
     "text": [
      "7conv1\n",
      "3conv1\n",
      "4conv1\n",
      "8conv0\n",
      "0conv1\n",
      "7conv0\n",
      "6conv0\n",
      "3conv0\n",
      "0conv0\n",
      "3shortcut\n"
     ]
    }
   ],
   "source": [
    "for split in [\"train\"]:\n",
    "    for bw in [1]:\n",
    "        print(\"bitwidth\", bw)\n",
    "        query_df = all_df.query(f'bit_width=={bw} and split==\"{split}\" and epsilonlw<0.03')\n",
    "        query_df = query_df[[\"layer\", \"dual\"]].groupby(['layer'], as_index=False).mean()\n",
    "        query_df = query_df.sort_values(\"dual\")\n",
    "        print(query_df)\n",
    "        sns.scatterplot(x =\"layer\", y=\"dual\", data=query_df)\n",
    "        plt.xticks(rotation=90)\n",
    "        plt.show()\n",
    "        for num_l in range(10):\n",
    "            layer = query_df['layer'].iloc[1+2*num_l]\n",
    "            print(layer)\n",
    "            bash = make_bash(layers_no_quant=[short_to_long_name[layer]], bitwidth=bw,num_l=1, epsilon=epsilon[bw], tag=1+2*num_l)\n",
    "            file_name = f\"1layer_{num_l}_bw_{bw}.sh\"\n",
    "            with open(os.path.join(bash_folder, file_name), \"w\") as f:\n",
    "                f.write(bash)"
   ]
  },
  {
   "cell_type": "code",
   "execution_count": 52,
   "metadata": {},
   "outputs": [
    {
     "name": "stdout",
     "output_type": "stream",
     "text": [
      "0\n"
     ]
    },
    {
     "ename": "UndefinedVariableError",
     "evalue": "name 'bit_width' is not defined",
     "output_type": "error",
     "traceback": [
      "\u001b[0;31m---------------------------------------------------------------------------\u001b[0m",
      "\u001b[0;31mKeyError\u001b[0m                                  Traceback (most recent call last)",
      "File \u001b[0;32m~/opt/miniconda3/envs/jupy/lib/python3.9/site-packages/pandas/core/computation/scope.py:195\u001b[0m, in \u001b[0;36mScope.resolve\u001b[0;34m(self, key, is_local)\u001b[0m\n\u001b[1;32m    194\u001b[0m \u001b[39mif\u001b[39;00m \u001b[39mself\u001b[39m\u001b[39m.\u001b[39mhas_resolvers:\n\u001b[0;32m--> 195\u001b[0m     \u001b[39mreturn\u001b[39;00m \u001b[39mself\u001b[39;49m\u001b[39m.\u001b[39;49mresolvers[key]\n\u001b[1;32m    197\u001b[0m \u001b[39m# if we're here that means that we have no locals and we also have\u001b[39;00m\n\u001b[1;32m    198\u001b[0m \u001b[39m# no resolvers\u001b[39;00m\n",
      "File \u001b[0;32m~/opt/miniconda3/envs/jupy/lib/python3.9/collections/__init__.py:941\u001b[0m, in \u001b[0;36mChainMap.__getitem__\u001b[0;34m(self, key)\u001b[0m\n\u001b[1;32m    940\u001b[0m         \u001b[39mpass\u001b[39;00m\n\u001b[0;32m--> 941\u001b[0m \u001b[39mreturn\u001b[39;00m \u001b[39mself\u001b[39;49m\u001b[39m.\u001b[39;49m\u001b[39m__missing__\u001b[39;49m(key)\n",
      "File \u001b[0;32m~/opt/miniconda3/envs/jupy/lib/python3.9/collections/__init__.py:933\u001b[0m, in \u001b[0;36mChainMap.__missing__\u001b[0;34m(self, key)\u001b[0m\n\u001b[1;32m    932\u001b[0m \u001b[39mdef\u001b[39;00m \u001b[39m__missing__\u001b[39m(\u001b[39mself\u001b[39m, key):\n\u001b[0;32m--> 933\u001b[0m     \u001b[39mraise\u001b[39;00m \u001b[39mKeyError\u001b[39;00m(key)\n",
      "\u001b[0;31mKeyError\u001b[0m: 'bit_width'",
      "\nDuring handling of the above exception, another exception occurred:\n",
      "\u001b[0;31mKeyError\u001b[0m                                  Traceback (most recent call last)",
      "File \u001b[0;32m~/opt/miniconda3/envs/jupy/lib/python3.9/site-packages/pandas/core/computation/scope.py:206\u001b[0m, in \u001b[0;36mScope.resolve\u001b[0;34m(self, key, is_local)\u001b[0m\n\u001b[1;32m    202\u001b[0m \u001b[39mtry\u001b[39;00m:\n\u001b[1;32m    203\u001b[0m     \u001b[39m# last ditch effort we look in temporaries\u001b[39;00m\n\u001b[1;32m    204\u001b[0m     \u001b[39m# these are created when parsing indexing expressions\u001b[39;00m\n\u001b[1;32m    205\u001b[0m     \u001b[39m# e.g., df[df > 0]\u001b[39;00m\n\u001b[0;32m--> 206\u001b[0m     \u001b[39mreturn\u001b[39;00m \u001b[39mself\u001b[39;49m\u001b[39m.\u001b[39;49mtemps[key]\n\u001b[1;32m    207\u001b[0m \u001b[39mexcept\u001b[39;00m \u001b[39mKeyError\u001b[39;00m \u001b[39mas\u001b[39;00m err:\n\u001b[1;32m    208\u001b[0m     \u001b[39m# runtime import because ops imports from scope\u001b[39;00m\n",
      "\u001b[0;31mKeyError\u001b[0m: 'bit_width'",
      "\nThe above exception was the direct cause of the following exception:\n",
      "\u001b[0;31mUndefinedVariableError\u001b[0m                    Traceback (most recent call last)",
      "\u001b[1;32m/Users/ignaciohounie/upenn/con-qat/notebooks/per_layer_l2.ipynb Cell 5\u001b[0m in \u001b[0;36m<cell line: 3>\u001b[0;34m()\u001b[0m\n\u001b[1;32m      <a href='vscode-notebook-cell:/Users/ignaciohounie/upenn/con-qat/notebooks/per_layer_l2.ipynb#W3sZmlsZQ%3D%3D?line=2'>3</a>\u001b[0m \u001b[39mfor\u001b[39;00m seed \u001b[39min\u001b[39;00m [\u001b[39m0\u001b[39m, \u001b[39m1\u001b[39m, \u001b[39m2\u001b[39m]:\n\u001b[1;32m      <a href='vscode-notebook-cell:/Users/ignaciohounie/upenn/con-qat/notebooks/per_layer_l2.ipynb#W3sZmlsZQ%3D%3D?line=3'>4</a>\u001b[0m     \u001b[39mprint\u001b[39m(seed)\n\u001b[0;32m----> <a href='vscode-notebook-cell:/Users/ignaciohounie/upenn/con-qat/notebooks/per_layer_l2.ipynb#W3sZmlsZQ%3D%3D?line=4'>5</a>\u001b[0m     query_df \u001b[39m=\u001b[39m all_df\u001b[39m.\u001b[39;49mquery(\u001b[39mf\u001b[39;49m\u001b[39m'\u001b[39;49m\u001b[39mbit_width==\u001b[39;49m\u001b[39m{\u001b[39;49;00mbw\u001b[39m}\u001b[39;49;00m\u001b[39m and split==\u001b[39;49m\u001b[39m\"\u001b[39;49m\u001b[39m{\u001b[39;49;00msplit\u001b[39m}\u001b[39;49;00m\u001b[39m\"\u001b[39;49m\u001b[39m and project==\u001b[39;49m\u001b[39m\"\u001b[39;49m\u001b[39mBlines\u001b[39;49m\u001b[39m\"\u001b[39;49m\u001b[39m'\u001b[39;49m)\n\u001b[1;32m      <a href='vscode-notebook-cell:/Users/ignaciohounie/upenn/con-qat/notebooks/per_layer_l2.ipynb#W3sZmlsZQ%3D%3D?line=5'>6</a>\u001b[0m     \u001b[39mprint\u001b[39m(query_df\u001b[39m.\u001b[39msort_values(\u001b[39m\"\u001b[39m\u001b[39mslack\u001b[39m\u001b[39m\"\u001b[39m, ascending\u001b[39m=\u001b[39m\u001b[39mFalse\u001b[39;00m)\u001b[39m.\u001b[39mdrop_duplicates(\u001b[39m\"\u001b[39m\u001b[39mlayer\u001b[39m\u001b[39m\"\u001b[39m)[\u001b[39m\"\u001b[39m\u001b[39mlayer\u001b[39m\u001b[39m\"\u001b[39m])\n",
      "File \u001b[0;32m~/opt/miniconda3/envs/jupy/lib/python3.9/site-packages/pandas/core/frame.py:4111\u001b[0m, in \u001b[0;36mDataFrame.query\u001b[0;34m(self, expr, inplace, **kwargs)\u001b[0m\n\u001b[1;32m   4109\u001b[0m kwargs[\u001b[39m\"\u001b[39m\u001b[39mlevel\u001b[39m\u001b[39m\"\u001b[39m] \u001b[39m=\u001b[39m kwargs\u001b[39m.\u001b[39mpop(\u001b[39m\"\u001b[39m\u001b[39mlevel\u001b[39m\u001b[39m\"\u001b[39m, \u001b[39m0\u001b[39m) \u001b[39m+\u001b[39m \u001b[39m1\u001b[39m\n\u001b[1;32m   4110\u001b[0m kwargs[\u001b[39m\"\u001b[39m\u001b[39mtarget\u001b[39m\u001b[39m\"\u001b[39m] \u001b[39m=\u001b[39m \u001b[39mNone\u001b[39;00m\n\u001b[0;32m-> 4111\u001b[0m res \u001b[39m=\u001b[39m \u001b[39mself\u001b[39;49m\u001b[39m.\u001b[39;49meval(expr, \u001b[39m*\u001b[39;49m\u001b[39m*\u001b[39;49mkwargs)\n\u001b[1;32m   4113\u001b[0m \u001b[39mtry\u001b[39;00m:\n\u001b[1;32m   4114\u001b[0m     result \u001b[39m=\u001b[39m \u001b[39mself\u001b[39m\u001b[39m.\u001b[39mloc[res]\n",
      "File \u001b[0;32m~/opt/miniconda3/envs/jupy/lib/python3.9/site-packages/pandas/core/frame.py:4240\u001b[0m, in \u001b[0;36mDataFrame.eval\u001b[0;34m(self, expr, inplace, **kwargs)\u001b[0m\n\u001b[1;32m   4237\u001b[0m     kwargs[\u001b[39m\"\u001b[39m\u001b[39mtarget\u001b[39m\u001b[39m\"\u001b[39m] \u001b[39m=\u001b[39m \u001b[39mself\u001b[39m\n\u001b[1;32m   4238\u001b[0m kwargs[\u001b[39m\"\u001b[39m\u001b[39mresolvers\u001b[39m\u001b[39m\"\u001b[39m] \u001b[39m=\u001b[39m \u001b[39mtuple\u001b[39m(kwargs\u001b[39m.\u001b[39mget(\u001b[39m\"\u001b[39m\u001b[39mresolvers\u001b[39m\u001b[39m\"\u001b[39m, ())) \u001b[39m+\u001b[39m resolvers\n\u001b[0;32m-> 4240\u001b[0m \u001b[39mreturn\u001b[39;00m _eval(expr, inplace\u001b[39m=\u001b[39;49minplace, \u001b[39m*\u001b[39;49m\u001b[39m*\u001b[39;49mkwargs)\n",
      "File \u001b[0;32m~/opt/miniconda3/envs/jupy/lib/python3.9/site-packages/pandas/core/computation/eval.py:350\u001b[0m, in \u001b[0;36meval\u001b[0;34m(expr, parser, engine, truediv, local_dict, global_dict, resolvers, level, target, inplace)\u001b[0m\n\u001b[1;32m    341\u001b[0m \u001b[39m# get our (possibly passed-in) scope\u001b[39;00m\n\u001b[1;32m    342\u001b[0m env \u001b[39m=\u001b[39m ensure_scope(\n\u001b[1;32m    343\u001b[0m     level \u001b[39m+\u001b[39m \u001b[39m1\u001b[39m,\n\u001b[1;32m    344\u001b[0m     global_dict\u001b[39m=\u001b[39mglobal_dict,\n\u001b[0;32m   (...)\u001b[0m\n\u001b[1;32m    347\u001b[0m     target\u001b[39m=\u001b[39mtarget,\n\u001b[1;32m    348\u001b[0m )\n\u001b[0;32m--> 350\u001b[0m parsed_expr \u001b[39m=\u001b[39m Expr(expr, engine\u001b[39m=\u001b[39;49mengine, parser\u001b[39m=\u001b[39;49mparser, env\u001b[39m=\u001b[39;49menv)\n\u001b[1;32m    352\u001b[0m \u001b[39m# construct the engine and evaluate the parsed expression\u001b[39;00m\n\u001b[1;32m    353\u001b[0m eng \u001b[39m=\u001b[39m ENGINES[engine]\n",
      "File \u001b[0;32m~/opt/miniconda3/envs/jupy/lib/python3.9/site-packages/pandas/core/computation/expr.py:811\u001b[0m, in \u001b[0;36mExpr.__init__\u001b[0;34m(self, expr, engine, parser, env, level)\u001b[0m\n\u001b[1;32m    809\u001b[0m \u001b[39mself\u001b[39m\u001b[39m.\u001b[39mparser \u001b[39m=\u001b[39m parser\n\u001b[1;32m    810\u001b[0m \u001b[39mself\u001b[39m\u001b[39m.\u001b[39m_visitor \u001b[39m=\u001b[39m PARSERS[parser](\u001b[39mself\u001b[39m\u001b[39m.\u001b[39menv, \u001b[39mself\u001b[39m\u001b[39m.\u001b[39mengine, \u001b[39mself\u001b[39m\u001b[39m.\u001b[39mparser)\n\u001b[0;32m--> 811\u001b[0m \u001b[39mself\u001b[39m\u001b[39m.\u001b[39mterms \u001b[39m=\u001b[39m \u001b[39mself\u001b[39;49m\u001b[39m.\u001b[39;49mparse()\n",
      "File \u001b[0;32m~/opt/miniconda3/envs/jupy/lib/python3.9/site-packages/pandas/core/computation/expr.py:830\u001b[0m, in \u001b[0;36mExpr.parse\u001b[0;34m(self)\u001b[0m\n\u001b[1;32m    826\u001b[0m \u001b[39mdef\u001b[39;00m \u001b[39mparse\u001b[39m(\u001b[39mself\u001b[39m):\n\u001b[1;32m    827\u001b[0m     \u001b[39m\"\"\"\u001b[39;00m\n\u001b[1;32m    828\u001b[0m \u001b[39m    Parse an expression.\u001b[39;00m\n\u001b[1;32m    829\u001b[0m \u001b[39m    \"\"\"\u001b[39;00m\n\u001b[0;32m--> 830\u001b[0m     \u001b[39mreturn\u001b[39;00m \u001b[39mself\u001b[39;49m\u001b[39m.\u001b[39;49m_visitor\u001b[39m.\u001b[39;49mvisit(\u001b[39mself\u001b[39;49m\u001b[39m.\u001b[39;49mexpr)\n",
      "File \u001b[0;32m~/opt/miniconda3/envs/jupy/lib/python3.9/site-packages/pandas/core/computation/expr.py:415\u001b[0m, in \u001b[0;36mBaseExprVisitor.visit\u001b[0;34m(self, node, **kwargs)\u001b[0m\n\u001b[1;32m    413\u001b[0m method \u001b[39m=\u001b[39m \u001b[39m\"\u001b[39m\u001b[39mvisit_\u001b[39m\u001b[39m\"\u001b[39m \u001b[39m+\u001b[39m \u001b[39mtype\u001b[39m(node)\u001b[39m.\u001b[39m\u001b[39m__name__\u001b[39m\n\u001b[1;32m    414\u001b[0m visitor \u001b[39m=\u001b[39m \u001b[39mgetattr\u001b[39m(\u001b[39mself\u001b[39m, method)\n\u001b[0;32m--> 415\u001b[0m \u001b[39mreturn\u001b[39;00m visitor(node, \u001b[39m*\u001b[39;49m\u001b[39m*\u001b[39;49mkwargs)\n",
      "File \u001b[0;32m~/opt/miniconda3/envs/jupy/lib/python3.9/site-packages/pandas/core/computation/expr.py:421\u001b[0m, in \u001b[0;36mBaseExprVisitor.visit_Module\u001b[0;34m(self, node, **kwargs)\u001b[0m\n\u001b[1;32m    419\u001b[0m     \u001b[39mraise\u001b[39;00m \u001b[39mSyntaxError\u001b[39;00m(\u001b[39m\"\u001b[39m\u001b[39monly a single expression is allowed\u001b[39m\u001b[39m\"\u001b[39m)\n\u001b[1;32m    420\u001b[0m expr \u001b[39m=\u001b[39m node\u001b[39m.\u001b[39mbody[\u001b[39m0\u001b[39m]\n\u001b[0;32m--> 421\u001b[0m \u001b[39mreturn\u001b[39;00m \u001b[39mself\u001b[39;49m\u001b[39m.\u001b[39;49mvisit(expr, \u001b[39m*\u001b[39;49m\u001b[39m*\u001b[39;49mkwargs)\n",
      "File \u001b[0;32m~/opt/miniconda3/envs/jupy/lib/python3.9/site-packages/pandas/core/computation/expr.py:415\u001b[0m, in \u001b[0;36mBaseExprVisitor.visit\u001b[0;34m(self, node, **kwargs)\u001b[0m\n\u001b[1;32m    413\u001b[0m method \u001b[39m=\u001b[39m \u001b[39m\"\u001b[39m\u001b[39mvisit_\u001b[39m\u001b[39m\"\u001b[39m \u001b[39m+\u001b[39m \u001b[39mtype\u001b[39m(node)\u001b[39m.\u001b[39m\u001b[39m__name__\u001b[39m\n\u001b[1;32m    414\u001b[0m visitor \u001b[39m=\u001b[39m \u001b[39mgetattr\u001b[39m(\u001b[39mself\u001b[39m, method)\n\u001b[0;32m--> 415\u001b[0m \u001b[39mreturn\u001b[39;00m visitor(node, \u001b[39m*\u001b[39;49m\u001b[39m*\u001b[39;49mkwargs)\n",
      "File \u001b[0;32m~/opt/miniconda3/envs/jupy/lib/python3.9/site-packages/pandas/core/computation/expr.py:424\u001b[0m, in \u001b[0;36mBaseExprVisitor.visit_Expr\u001b[0;34m(self, node, **kwargs)\u001b[0m\n\u001b[1;32m    423\u001b[0m \u001b[39mdef\u001b[39;00m \u001b[39mvisit_Expr\u001b[39m(\u001b[39mself\u001b[39m, node, \u001b[39m*\u001b[39m\u001b[39m*\u001b[39mkwargs):\n\u001b[0;32m--> 424\u001b[0m     \u001b[39mreturn\u001b[39;00m \u001b[39mself\u001b[39;49m\u001b[39m.\u001b[39;49mvisit(node\u001b[39m.\u001b[39;49mvalue, \u001b[39m*\u001b[39;49m\u001b[39m*\u001b[39;49mkwargs)\n",
      "File \u001b[0;32m~/opt/miniconda3/envs/jupy/lib/python3.9/site-packages/pandas/core/computation/expr.py:415\u001b[0m, in \u001b[0;36mBaseExprVisitor.visit\u001b[0;34m(self, node, **kwargs)\u001b[0m\n\u001b[1;32m    413\u001b[0m method \u001b[39m=\u001b[39m \u001b[39m\"\u001b[39m\u001b[39mvisit_\u001b[39m\u001b[39m\"\u001b[39m \u001b[39m+\u001b[39m \u001b[39mtype\u001b[39m(node)\u001b[39m.\u001b[39m\u001b[39m__name__\u001b[39m\n\u001b[1;32m    414\u001b[0m visitor \u001b[39m=\u001b[39m \u001b[39mgetattr\u001b[39m(\u001b[39mself\u001b[39m, method)\n\u001b[0;32m--> 415\u001b[0m \u001b[39mreturn\u001b[39;00m visitor(node, \u001b[39m*\u001b[39;49m\u001b[39m*\u001b[39;49mkwargs)\n",
      "File \u001b[0;32m~/opt/miniconda3/envs/jupy/lib/python3.9/site-packages/pandas/core/computation/expr.py:750\u001b[0m, in \u001b[0;36mBaseExprVisitor.visit_BoolOp\u001b[0;34m(self, node, **kwargs)\u001b[0m\n\u001b[1;32m    747\u001b[0m     \u001b[39mreturn\u001b[39;00m \u001b[39mself\u001b[39m\u001b[39m.\u001b[39m_maybe_evaluate_binop(op, node\u001b[39m.\u001b[39mop, lhs, rhs)\n\u001b[1;32m    749\u001b[0m operands \u001b[39m=\u001b[39m node\u001b[39m.\u001b[39mvalues\n\u001b[0;32m--> 750\u001b[0m \u001b[39mreturn\u001b[39;00m reduce(visitor, operands)\n",
      "File \u001b[0;32m~/opt/miniconda3/envs/jupy/lib/python3.9/site-packages/pandas/core/computation/expr.py:743\u001b[0m, in \u001b[0;36mBaseExprVisitor.visit_BoolOp.<locals>.visitor\u001b[0;34m(x, y)\u001b[0m\n\u001b[1;32m    742\u001b[0m \u001b[39mdef\u001b[39;00m \u001b[39mvisitor\u001b[39m(x, y):\n\u001b[0;32m--> 743\u001b[0m     lhs \u001b[39m=\u001b[39m \u001b[39mself\u001b[39;49m\u001b[39m.\u001b[39;49m_try_visit_binop(x)\n\u001b[1;32m    744\u001b[0m     rhs \u001b[39m=\u001b[39m \u001b[39mself\u001b[39m\u001b[39m.\u001b[39m_try_visit_binop(y)\n\u001b[1;32m    746\u001b[0m     op, op_class, lhs, rhs \u001b[39m=\u001b[39m \u001b[39mself\u001b[39m\u001b[39m.\u001b[39m_maybe_transform_eq_ne(node, lhs, rhs)\n",
      "File \u001b[0;32m~/opt/miniconda3/envs/jupy/lib/python3.9/site-packages/pandas/core/computation/expr.py:739\u001b[0m, in \u001b[0;36mBaseExprVisitor._try_visit_binop\u001b[0;34m(self, bop)\u001b[0m\n\u001b[1;32m    737\u001b[0m \u001b[39mif\u001b[39;00m \u001b[39misinstance\u001b[39m(bop, (Op, Term)):\n\u001b[1;32m    738\u001b[0m     \u001b[39mreturn\u001b[39;00m bop\n\u001b[0;32m--> 739\u001b[0m \u001b[39mreturn\u001b[39;00m \u001b[39mself\u001b[39;49m\u001b[39m.\u001b[39;49mvisit(bop)\n",
      "File \u001b[0;32m~/opt/miniconda3/envs/jupy/lib/python3.9/site-packages/pandas/core/computation/expr.py:415\u001b[0m, in \u001b[0;36mBaseExprVisitor.visit\u001b[0;34m(self, node, **kwargs)\u001b[0m\n\u001b[1;32m    413\u001b[0m method \u001b[39m=\u001b[39m \u001b[39m\"\u001b[39m\u001b[39mvisit_\u001b[39m\u001b[39m\"\u001b[39m \u001b[39m+\u001b[39m \u001b[39mtype\u001b[39m(node)\u001b[39m.\u001b[39m\u001b[39m__name__\u001b[39m\n\u001b[1;32m    414\u001b[0m visitor \u001b[39m=\u001b[39m \u001b[39mgetattr\u001b[39m(\u001b[39mself\u001b[39m, method)\n\u001b[0;32m--> 415\u001b[0m \u001b[39mreturn\u001b[39;00m visitor(node, \u001b[39m*\u001b[39;49m\u001b[39m*\u001b[39;49mkwargs)\n",
      "File \u001b[0;32m~/opt/miniconda3/envs/jupy/lib/python3.9/site-packages/pandas/core/computation/expr.py:723\u001b[0m, in \u001b[0;36mBaseExprVisitor.visit_Compare\u001b[0;34m(self, node, **kwargs)\u001b[0m\n\u001b[1;32m    721\u001b[0m     op \u001b[39m=\u001b[39m \u001b[39mself\u001b[39m\u001b[39m.\u001b[39mtranslate_In(ops[\u001b[39m0\u001b[39m])\n\u001b[1;32m    722\u001b[0m     binop \u001b[39m=\u001b[39m ast\u001b[39m.\u001b[39mBinOp(op\u001b[39m=\u001b[39mop, left\u001b[39m=\u001b[39mnode\u001b[39m.\u001b[39mleft, right\u001b[39m=\u001b[39mcomps[\u001b[39m0\u001b[39m])\n\u001b[0;32m--> 723\u001b[0m     \u001b[39mreturn\u001b[39;00m \u001b[39mself\u001b[39;49m\u001b[39m.\u001b[39;49mvisit(binop)\n\u001b[1;32m    725\u001b[0m \u001b[39m# recursive case: we have a chained comparison, a CMP b CMP c, etc.\u001b[39;00m\n\u001b[1;32m    726\u001b[0m left \u001b[39m=\u001b[39m node\u001b[39m.\u001b[39mleft\n",
      "File \u001b[0;32m~/opt/miniconda3/envs/jupy/lib/python3.9/site-packages/pandas/core/computation/expr.py:415\u001b[0m, in \u001b[0;36mBaseExprVisitor.visit\u001b[0;34m(self, node, **kwargs)\u001b[0m\n\u001b[1;32m    413\u001b[0m method \u001b[39m=\u001b[39m \u001b[39m\"\u001b[39m\u001b[39mvisit_\u001b[39m\u001b[39m\"\u001b[39m \u001b[39m+\u001b[39m \u001b[39mtype\u001b[39m(node)\u001b[39m.\u001b[39m\u001b[39m__name__\u001b[39m\n\u001b[1;32m    414\u001b[0m visitor \u001b[39m=\u001b[39m \u001b[39mgetattr\u001b[39m(\u001b[39mself\u001b[39m, method)\n\u001b[0;32m--> 415\u001b[0m \u001b[39mreturn\u001b[39;00m visitor(node, \u001b[39m*\u001b[39;49m\u001b[39m*\u001b[39;49mkwargs)\n",
      "File \u001b[0;32m~/opt/miniconda3/envs/jupy/lib/python3.9/site-packages/pandas/core/computation/expr.py:536\u001b[0m, in \u001b[0;36mBaseExprVisitor.visit_BinOp\u001b[0;34m(self, node, **kwargs)\u001b[0m\n\u001b[1;32m    535\u001b[0m \u001b[39mdef\u001b[39;00m \u001b[39mvisit_BinOp\u001b[39m(\u001b[39mself\u001b[39m, node, \u001b[39m*\u001b[39m\u001b[39m*\u001b[39mkwargs):\n\u001b[0;32m--> 536\u001b[0m     op, op_class, left, right \u001b[39m=\u001b[39m \u001b[39mself\u001b[39;49m\u001b[39m.\u001b[39;49m_maybe_transform_eq_ne(node)\n\u001b[1;32m    537\u001b[0m     left, right \u001b[39m=\u001b[39m \u001b[39mself\u001b[39m\u001b[39m.\u001b[39m_maybe_downcast_constants(left, right)\n\u001b[1;32m    538\u001b[0m     \u001b[39mreturn\u001b[39;00m \u001b[39mself\u001b[39m\u001b[39m.\u001b[39m_maybe_evaluate_binop(op, op_class, left, right)\n",
      "File \u001b[0;32m~/opt/miniconda3/envs/jupy/lib/python3.9/site-packages/pandas/core/computation/expr.py:456\u001b[0m, in \u001b[0;36mBaseExprVisitor._maybe_transform_eq_ne\u001b[0;34m(self, node, left, right)\u001b[0m\n\u001b[1;32m    454\u001b[0m \u001b[39mdef\u001b[39;00m \u001b[39m_maybe_transform_eq_ne\u001b[39m(\u001b[39mself\u001b[39m, node, left\u001b[39m=\u001b[39m\u001b[39mNone\u001b[39;00m, right\u001b[39m=\u001b[39m\u001b[39mNone\u001b[39;00m):\n\u001b[1;32m    455\u001b[0m     \u001b[39mif\u001b[39;00m left \u001b[39mis\u001b[39;00m \u001b[39mNone\u001b[39;00m:\n\u001b[0;32m--> 456\u001b[0m         left \u001b[39m=\u001b[39m \u001b[39mself\u001b[39;49m\u001b[39m.\u001b[39;49mvisit(node\u001b[39m.\u001b[39;49mleft, side\u001b[39m=\u001b[39;49m\u001b[39m\"\u001b[39;49m\u001b[39mleft\u001b[39;49m\u001b[39m\"\u001b[39;49m)\n\u001b[1;32m    457\u001b[0m     \u001b[39mif\u001b[39;00m right \u001b[39mis\u001b[39;00m \u001b[39mNone\u001b[39;00m:\n\u001b[1;32m    458\u001b[0m         right \u001b[39m=\u001b[39m \u001b[39mself\u001b[39m\u001b[39m.\u001b[39mvisit(node\u001b[39m.\u001b[39mright, side\u001b[39m=\u001b[39m\u001b[39m\"\u001b[39m\u001b[39mright\u001b[39m\u001b[39m\"\u001b[39m)\n",
      "File \u001b[0;32m~/opt/miniconda3/envs/jupy/lib/python3.9/site-packages/pandas/core/computation/expr.py:415\u001b[0m, in \u001b[0;36mBaseExprVisitor.visit\u001b[0;34m(self, node, **kwargs)\u001b[0m\n\u001b[1;32m    413\u001b[0m method \u001b[39m=\u001b[39m \u001b[39m\"\u001b[39m\u001b[39mvisit_\u001b[39m\u001b[39m\"\u001b[39m \u001b[39m+\u001b[39m \u001b[39mtype\u001b[39m(node)\u001b[39m.\u001b[39m\u001b[39m__name__\u001b[39m\n\u001b[1;32m    414\u001b[0m visitor \u001b[39m=\u001b[39m \u001b[39mgetattr\u001b[39m(\u001b[39mself\u001b[39m, method)\n\u001b[0;32m--> 415\u001b[0m \u001b[39mreturn\u001b[39;00m visitor(node, \u001b[39m*\u001b[39;49m\u001b[39m*\u001b[39;49mkwargs)\n",
      "File \u001b[0;32m~/opt/miniconda3/envs/jupy/lib/python3.9/site-packages/pandas/core/computation/expr.py:549\u001b[0m, in \u001b[0;36mBaseExprVisitor.visit_Name\u001b[0;34m(self, node, **kwargs)\u001b[0m\n\u001b[1;32m    548\u001b[0m \u001b[39mdef\u001b[39;00m \u001b[39mvisit_Name\u001b[39m(\u001b[39mself\u001b[39m, node, \u001b[39m*\u001b[39m\u001b[39m*\u001b[39mkwargs):\n\u001b[0;32m--> 549\u001b[0m     \u001b[39mreturn\u001b[39;00m \u001b[39mself\u001b[39;49m\u001b[39m.\u001b[39;49mterm_type(node\u001b[39m.\u001b[39;49mid, \u001b[39mself\u001b[39;49m\u001b[39m.\u001b[39;49menv, \u001b[39m*\u001b[39;49m\u001b[39m*\u001b[39;49mkwargs)\n",
      "File \u001b[0;32m~/opt/miniconda3/envs/jupy/lib/python3.9/site-packages/pandas/core/computation/ops.py:98\u001b[0m, in \u001b[0;36mTerm.__init__\u001b[0;34m(self, name, env, side, encoding)\u001b[0m\n\u001b[1;32m     96\u001b[0m tname \u001b[39m=\u001b[39m \u001b[39mstr\u001b[39m(name)\n\u001b[1;32m     97\u001b[0m \u001b[39mself\u001b[39m\u001b[39m.\u001b[39mis_local \u001b[39m=\u001b[39m tname\u001b[39m.\u001b[39mstartswith(LOCAL_TAG) \u001b[39mor\u001b[39;00m tname \u001b[39min\u001b[39;00m DEFAULT_GLOBALS\n\u001b[0;32m---> 98\u001b[0m \u001b[39mself\u001b[39m\u001b[39m.\u001b[39m_value \u001b[39m=\u001b[39m \u001b[39mself\u001b[39;49m\u001b[39m.\u001b[39;49m_resolve_name()\n\u001b[1;32m     99\u001b[0m \u001b[39mself\u001b[39m\u001b[39m.\u001b[39mencoding \u001b[39m=\u001b[39m encoding\n",
      "File \u001b[0;32m~/opt/miniconda3/envs/jupy/lib/python3.9/site-packages/pandas/core/computation/ops.py:115\u001b[0m, in \u001b[0;36mTerm._resolve_name\u001b[0;34m(self)\u001b[0m\n\u001b[1;32m    114\u001b[0m \u001b[39mdef\u001b[39;00m \u001b[39m_resolve_name\u001b[39m(\u001b[39mself\u001b[39m):\n\u001b[0;32m--> 115\u001b[0m     res \u001b[39m=\u001b[39m \u001b[39mself\u001b[39;49m\u001b[39m.\u001b[39;49menv\u001b[39m.\u001b[39;49mresolve(\u001b[39mself\u001b[39;49m\u001b[39m.\u001b[39;49mlocal_name, is_local\u001b[39m=\u001b[39;49m\u001b[39mself\u001b[39;49m\u001b[39m.\u001b[39;49mis_local)\n\u001b[1;32m    116\u001b[0m     \u001b[39mself\u001b[39m\u001b[39m.\u001b[39mupdate(res)\n\u001b[1;32m    118\u001b[0m     \u001b[39mif\u001b[39;00m \u001b[39mhasattr\u001b[39m(res, \u001b[39m\"\u001b[39m\u001b[39mndim\u001b[39m\u001b[39m\"\u001b[39m) \u001b[39mand\u001b[39;00m res\u001b[39m.\u001b[39mndim \u001b[39m>\u001b[39m \u001b[39m2\u001b[39m:\n",
      "File \u001b[0;32m~/opt/miniconda3/envs/jupy/lib/python3.9/site-packages/pandas/core/computation/scope.py:211\u001b[0m, in \u001b[0;36mScope.resolve\u001b[0;34m(self, key, is_local)\u001b[0m\n\u001b[1;32m    207\u001b[0m \u001b[39mexcept\u001b[39;00m \u001b[39mKeyError\u001b[39;00m \u001b[39mas\u001b[39;00m err:\n\u001b[1;32m    208\u001b[0m     \u001b[39m# runtime import because ops imports from scope\u001b[39;00m\n\u001b[1;32m    209\u001b[0m     \u001b[39mfrom\u001b[39;00m \u001b[39mpandas\u001b[39;00m\u001b[39m.\u001b[39;00m\u001b[39mcore\u001b[39;00m\u001b[39m.\u001b[39;00m\u001b[39mcomputation\u001b[39;00m\u001b[39m.\u001b[39;00m\u001b[39mops\u001b[39;00m \u001b[39mimport\u001b[39;00m UndefinedVariableError\n\u001b[0;32m--> 211\u001b[0m     \u001b[39mraise\u001b[39;00m UndefinedVariableError(key, is_local) \u001b[39mfrom\u001b[39;00m \u001b[39merr\u001b[39;00m\n",
      "\u001b[0;31mUndefinedVariableError\u001b[0m: name 'bit_width' is not defined"
     ]
    }
   ],
   "source": [
    "split=\"train\"\n",
    "bw=2\n",
    "for seed in [0, 1, 2]:\n",
    "    print(seed)\n",
    "    query_df = all_df.query(f'bit_width=={bw} and split==\"{split}\" and project==\"Blines\"')\n",
    "    print(query_df.sort_values(\"slack\", ascending=False).drop_duplicates(\"layer\")[\"layer\"])"
   ]
  },
  {
   "cell_type": "code",
   "execution_count": 27,
   "metadata": {},
   "outputs": [
    {
     "name": "stdout",
     "output_type": "stream",
     "text": [
      "OURS(high)\n",
      "0\n",
      "380     9\n",
      "244     7\n",
      "246     8\n",
      "238     4\n",
      "374     6\n",
      "240     5\n",
      "368     3\n",
      "234     2\n",
      "364     1\n",
      "142     0\n",
      "250    10\n",
      "Name: layer, dtype: int64\n",
      "1\n",
      "380     9\n",
      "244     7\n",
      "246     8\n",
      "238     4\n",
      "374     6\n",
      "240     5\n",
      "368     3\n",
      "234     2\n",
      "364     1\n",
      "142     0\n",
      "250    10\n",
      "Name: layer, dtype: int64\n",
      "2\n",
      "380     9\n",
      "244     7\n",
      "246     8\n",
      "238     4\n",
      "374     6\n",
      "240     5\n",
      "368     3\n",
      "234     2\n",
      "364     1\n",
      "142     0\n",
      "250    10\n",
      "Name: layer, dtype: int64\n",
      "OURS(low)\n",
      "0\n",
      "266     7\n",
      "334     8\n",
      "194     4\n",
      "336     9\n",
      "330     6\n",
      "196     5\n",
      "324     3\n",
      "322     2\n",
      "188     1\n",
      "186     0\n",
      "272    10\n",
      "Name: layer, dtype: int64\n",
      "1\n",
      "266     7\n",
      "334     8\n",
      "194     4\n",
      "336     9\n",
      "330     6\n",
      "196     5\n",
      "324     3\n",
      "322     2\n",
      "188     1\n",
      "186     0\n",
      "272    10\n",
      "Name: layer, dtype: int64\n",
      "2\n",
      "266     7\n",
      "334     8\n",
      "194     4\n",
      "336     9\n",
      "330     6\n",
      "196     5\n",
      "324     3\n",
      "322     2\n",
      "188     1\n",
      "186     0\n",
      "272    10\n",
      "Name: layer, dtype: int64\n"
     ]
    }
   ],
   "source": [
    "split=\"train\"\n",
    "bw=2\n",
    "for algorithm in [\"OURS(high)\", \"OURS(low)\"]:\n",
    "    print(algorithm)\n",
    "    for seed in [0, 1, 2]:\n",
    "        print(seed)\n",
    "        query_df = all_df.query(f'bit_width=={bw} and split==\"{split}\" and project==\"LayerSelection\" and algorithm==\"{algorithm}\"')\n",
    "        print(query_df.sort_values(\"dual\", ascending=False).drop_duplicates(\"layer\")[\"layer\"])"
   ]
  }
 ],
 "metadata": {
  "kernelspec": {
   "display_name": "Python 3 (ipykernel)",
   "language": "python",
   "name": "python3"
  },
  "orig_nbformat": 4,
  "vscode": {
   "interpreter": {
    "hash": "c2a05ab193a4641e78e83ae2725bff312e3826d3d49003ac5b780af377042436"
   }
  }
 },
 "nbformat": 4,
 "nbformat_minor": 2
}
